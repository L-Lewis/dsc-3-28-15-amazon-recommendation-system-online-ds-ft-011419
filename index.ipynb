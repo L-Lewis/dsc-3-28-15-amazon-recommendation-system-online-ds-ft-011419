{
 "cells": [
  {
   "cell_type": "markdown",
   "metadata": {},
   "source": [
    "# Amazon Recommendation System - Lab\n",
    "\n",
    "## Introduction\n",
    "In this lab, we are going to use Amazon Product Co-purchase data to make Book Recommendations using Social Network Analysis Techniques. We shall make use of the concepts covered in this section towards centrality and clustering dynamics of a graph. In particular, we'll make use of the \"Island Method\" for networks analysis to split the huge graph into smaller islands for identifying similarity between books. \n",
    "\n",
    "## Objectives\n",
    "You will be able to: \n",
    "\n",
    "* Read and manipulate graph data and get it ready for analysis\n",
    "* Apply Network Analysis and graph dynamics concepts to analyze complex networks\n",
    "* Build a recommendation system using the graph data for complex networks"
   ]
  },
  {
   "cell_type": "markdown",
   "metadata": {},
   "source": [
    "## Graph Based Recommendation Systems \n",
    "From purchase suggestions on e-commerce websites to content customization on multimedia platforms, recommendation systems happen to be more and more widespread among the web. Modern companies such as Facebook, Netflix, Amazon all develop their own, aiming to propose items or contents which are more personalized and relevant to their users.\n",
    "\n",
    "We have seen that in graph data, information entities are stored as nodes, which are linked together by edges showing some sort of association between these entities. This allows to easily retrieve knowledge about mutual relationships between nodes. Therefore, graphs are useful to describe systems of strongly connected entities, such as social networks, pages on a website, co-operation of any kind between associated entities etc. This feature of graph processing can be used to build efficient Recommendation systems (also known as Recommender Systems).\n",
    "\n",
    "\n",
    "\n",
    "\n",
    "\n",
    "\n",
    "\n",
    "\n",
    "In this lab, we shall build a straightforward recommender system taking advantage of a graph analysis. \n",
    "\n",
    "Following shows an example of movie ratings by a specific user for different movies he has purchased, viewed in the form of graph. [Click here to see more on this experiment](https://www.kernix.com/blog/an-efficient-recommender-system-based-on-graph-database_p9). We shall build a similar system later in the course with a much bigger and complex dataset. \n",
    "\n",
    "\n",
    "<img src=\"rs1.png\" width=600>"
   ]
  },
  {
   "cell_type": "markdown",
   "metadata": {},
   "source": [
    "## Amazon Co-purchase Dataset\n",
    "\n",
    "\n",
    "This project will use a preprocessed version of Amazon Meta-Data Set maintained on the Stanford Network Analysis Project (SNAP) website. The original data was collected by crawling Amazon website and contains product metadata and review information about 548,552 different products (Books, music CDs, DVDs and VHS video tapes). [Click here to visit the official site](https://snap.stanford.edu/data/amazon-meta.html). This and other similar datasets have been used massively for marketing analytics, customer segmentations and building recommendation systems. \n",
    "\n",
    "### Original Dataset Statistics \n",
    "\n",
    "**Co-purchase Statistics**\n",
    "\n",
    "- Products\t548,552\n",
    "- Product-Product Edges\t1,788,725\n",
    "- Reviews\t7,781,990\n",
    "- Product category memberships\t2,509,699\n",
    "- Products by product group\t\n",
    "\n",
    "**Item Frequency**\n",
    "- Books\t393561\n",
    "- DVDs\t19828\n",
    "- Music CDs\t103144\n",
    "- Videos\t26132\n",
    "\n",
    "\n",
    "The Co-purchase meta dataset is almost 1GB in raw format as shown below:\n",
    "\n",
    "#### Example Record\n",
    "```\n",
    "Id:   15\n",
    "ASIN: 1559362022\n",
    "  title: Wake Up and Smell the Coffee\n",
    "  group: Book\n",
    "  salesrank: 518927\n",
    "  similar: 5  1559360968  1559361247  1559360828  1559361018  0743214552\n",
    "  categories: 3\n",
    "   |Books[283155]|Subjects[1000]|Literature & Fiction[17]|Drama[2159]|United States[2160]\n",
    "   |Books[283155]|Subjects[1000]|Arts & Photography[1]|Performing Arts[521000]|Theater[2154]|General[2218]\n",
    "   |Books[283155]|Subjects[1000]|Literature & Fiction[17]|Authors, A-Z[70021]|( B )[70023]|Bogosian, Eric[70116]\n",
    "  reviews: total: 8  downloaded: 8  avg rating: 4\n",
    "    2002-5-13  cutomer: A2IGOA66Y6O8TQ  rating: 5  votes:   3  helpful:   2\n",
    "    2002-6-17  cutomer: A2OIN4AUH84KNE  rating: 5  votes:   2  helpful:   1\n",
    "    2003-1-2   cutomer: A2HN382JNT1CIU  rating: 1  votes:   6  helpful:   1\n",
    "    2003-6-7   cutomer: A2FDJ79LDU4O18  rating: 4  votes:   1  helpful:   1\n",
    "    2003-6-27  cutomer: A39QMV9ZKRJXO5  rating: 4  votes:   1  helpful:   1\n",
    "    2004-2-17  cutomer:  AUUVMSTQ1TXDI  rating: 1  votes:   2  helpful:   0\n",
    "    2004-2-24  cutomer: A2C5K0QTLL9UAT  rating: 5  votes:   2  helpful:   2\n",
    "    2004-10-13 cutomer:  A5XYF0Z3UH4HB  rating: 5  votes:   1  helpful:   1\n",
    "    ```\n",
    "\n",
    "\n",
    "\n",
    "## Pre-processed Dataset.\n",
    "\n",
    "In this experiment, we will use a pre-processed version of the dataset, with only the information about co-puchases in category __Books__. You are encouraged to download the original dataset (or try different such datasets) to build your own custom recommendation systems. Remember, the information in this dataset was collected in 2006 and is a bit outdated to be used within a practical system today.\n",
    "\n",
    "Our new dataset has following files and formats. \n",
    "- `books_meta.txt`\n",
    "- `books_data.edgelist`\n",
    "\n",
    "Below we shall look at how these files are structured and parse them accordingly. "
   ]
  },
  {
   "cell_type": "markdown",
   "metadata": {},
   "source": [
    "## `books_meta.txt`\n",
    "\n",
    "In this file we have the meta information about individual books as records. Part of this information is provided in the original dataset and some attributes have been added which might become useful for building our recommendation system. Let's look at what this file contains. \n",
    "\n",
    "### Features from original dataset:\n",
    "- __Id__: Indexing field\n",
    "- __ASIN__:  Amazon Standard Identification Number\n",
    "- __Title__: Complete title of the book\n",
    "- __Categories__: Categories to which a book belongs to\n",
    "- __Group__: All records in our preprocessed dataset belong to single category \"Book\"\n",
    "- __SalesRank__: Amazon sales rank or Best seller rank (BSR) helps a seller to determine the sales performance of a certain product within a particular category. Graded on a bell curve, every Amazon product has a numerical sales ranking where lower numbers are more profitable.\n",
    "- __TotalReviews__: Total number product reviews by the user\n",
    "- __AvgRatings__: Average Rating given by users\n",
    "\n",
    "### Engineered Features \n",
    "\n",
    "For this lab, we have following features, engineered from the co-purchase data. \n",
    "\n",
    "- __DegreeCentrality__: Degree Centrality of each item based on co-purchases\n",
    "- __ClusteringCoeff__: As we saw earlier, this described the extent to which neighbors of a node are each other's neighbors as well; i.e. How often the items bought with this item were bought together. \n",
    "\n",
    "#### ASIN\n",
    "> ASIN stands for Amazon Standard Identification Number. It's a 10-charcter alphanumeric unique identifier that's assigned by Amazon.com and its partners. It's used for product-identification within Amazon.com organization. ASINs are only guaranteed unique within a marketplace\n",
    "\n",
    "Here is an example of the record in this file:\n",
    "\n",
    "```\n",
    "1\t0827229534\tPatterns of Preaching: A Sermon Sampler\tclergi sermon subject religion preach spiritu christian book\tBook\t396585\t2\t5.0\t8\t0.8\n",
    "\n",
    "```"
   ]
  },
  {
   "cell_type": "markdown",
   "metadata": {},
   "source": [
    "## Task 1:  Read `books_meta.txt` \n",
    "\n",
    "- Read the data from the `books_meta.txt` as detailed below:\n",
    "\n",
    "This is not a standard csv file, its a tsv (a tab delimited file).Due to the fact that books have variable number of categories, a csv file may have records showing different numbers of attributes, which is not ideal. Here categories are split by normal space and next attribute is a tab space. (open the file to view records under header). \n",
    "\n",
    "- Open the file and parse it line by line , splitting attributes on TAB (shown in python as `\\t`)\n",
    "\n",
    "- Store the parsed data into a new nested dictionary `books_meta_dict` in following format:\n",
    "\n",
    "    - Set `ASIN` as the key for each dictionary entry and `meta` as value. The `meta` value should contain following metadata entries from original data as key value pairs.\n",
    "\n",
    "    - key = `meta`,\n",
    "        values = \n",
    "            - Id \n",
    "            - Title\n",
    "            - Ctagories\n",
    "            - Group\n",
    "            - SalesRank\n",
    "            - TotalReviews\n",
    "            - AvgRatings\n",
    "            - DegreeCentrality\n",
    "            - ClusteringCoeff\n",
    "    \n",
    "__Expected output format__ (Remember order of k:v pairs does not matter)\n",
    "```\n",
    "{'0827229534': {'AvgRating': 5.0,\n",
    "  'Categories': 'clergi sermon subject religion preach spiritu christian book',\n",
    "  'ClusteringCoeff': 0.8,\n",
    "  'DegreeCentrality': 8,\n",
    "  'Group': 'Book',\n",
    "  'Id': '1',\n",
    "  'SalesRank': 396585,\n",
    "  'Title': 'Patterns of Preaching: A Sermon Sampler',\n",
    "  'TotalReviews': 2}\n",
    "  ```\n",
    "  \n",
    "- Show the length of new dictionary "
   ]
  },
  {
   "cell_type": "code",
   "execution_count": 2,
   "metadata": {
    "scrolled": true
   },
   "outputs": [
    {
     "data": {
      "text/plain": [
       "393561"
      ]
     },
     "execution_count": 2,
     "metadata": {},
     "output_type": "execute_result"
    }
   ],
   "source": [
    "# From solution\n",
    "\n",
    "fhr = open('books_meta.txt', 'r', encoding='utf-8', errors='ignore')\n",
    "books_meta_dict = {}\n",
    "fhr.readline()\n",
    "\n",
    "# Parse data from each ASIN entry\n",
    "for record in fhr:\n",
    "  \n",
    "  # Split the record attributes on TAB \n",
    "  attr = record.split('\\t')\n",
    "  \n",
    "  # Create a meta dictionary \n",
    "  meta = {}\n",
    "  \n",
    "  # Read the attributes into key = ASIN , value= meta - where meta is a dictionary of attributes (except ASIN)\n",
    "  meta['Id'] = attr[0].strip() \n",
    "  ASIN = attr[1].strip()\n",
    "  meta['Title'] = attr[2].strip()\n",
    "  meta['Categories'] = attr[3].strip()\n",
    "  meta['Group'] = attr[4].strip()\n",
    "  \n",
    "  # Convert numeric data to integers and floats accordingly\n",
    "  meta['SalesRank'] = int(attr[5].strip())\n",
    "  meta['TotalReviews'] = int(attr[6].strip()) \n",
    "  meta['AvgRating'] = float(attr[7].strip())\n",
    "  meta['DegreeCentrality'] = int(attr[8].strip()) \n",
    "  meta['ClusteringCoeff'] = float(attr[9].strip())\n",
    "  \n",
    "  # Write metadata as value with key ASIN\n",
    "  books_meta_dict[ASIN] = meta\n",
    "\n",
    "# Close the file reader\n",
    "fhr.close()\n",
    "len(books_meta_dict)"
   ]
  },
  {
   "cell_type": "markdown",
   "metadata": {},
   "source": [
    "## `books_data.edgelist`\n",
    "\n",
    "This file contains an edge list connecting together all the books (as nodes) that were co purchased. The books are shown as `ASIN` number.  \n",
    "\n",
    "\n",
    "As we saw earlier, first two columns of this dataset contain the node information and a third column to show weight of the edges as a measure of __normalized category similarity__ between ASINs. These weights have been provided in the original dataset. \n",
    "\n",
    "```\n",
    "0827229534 0804215715 0.7\n",
    "0827229534 156101074X 0.5\n",
    "0827229534 0687023955 0.8\n",
    "0827229534 0687074231 0.8\n",
    "0827229534 082721619X 0.7\n",
    "0827229534 0805415505 0.7\n",
    ".\n",
    ".\n",
    "```\n",
    "\n",
    "Let's see a couple of quick examples to develop an intuition around this. \n",
    "\n",
    "---\n",
    "__Example one:__ A strong edge weight \n",
    "\n",
    ">__(0804215715 0687023955 0.9)__\n",
    "\n",
    "__0804215715__\tWitness of Preaching\t\n",
    "Categories: ```clergi subject religion preach spiritu ritual christian book practic```\n",
    "\n",
    "__0687023955__\tThe Four Pages of the Sermon: A Guide to Biblical Preaching\t\n",
    "Categories: ```clergi sermon subject religion preach spiritu ritual christian book practic```\n",
    "\n",
    "---\n",
    "\n",
    "__Example Two:__ Weak edge \n",
    "\n",
    ">__(0822329387 0807854603 0.18)__\n",
    "\n",
    "__0822329387__\tMaterializing Democracy: Toward a Revitalized Cultural Politics (New Americanists)\t\n",
    "Categories: ```nonfict general subject polit govern democraci ```\n",
    "\n",
    "__0807854603__\tAmerica's Culture of Terrorism: Violence, Capitalism, and the Written Word (Cultural Studies of the United States)\n",
    "\n",
    "Categories: ```event general nonfict subject literatur current america unit critic state scienc social societi theori book terror histori violenc fiction\t```\n",
    "\n",
    "---\n",
    "So above we see two examples with a strong edge and a weak edge which is reflected in the categories that these books belong to. Try to see some other examples from given datasets to develop this intuition further. \n"
   ]
  },
  {
   "cell_type": "markdown",
   "metadata": {},
   "source": [
    "## Task 2. Create weighted graph from given edgelist\n",
    "\n",
    "- Read the data from the provided `books_data.edgelist`\n",
    "- Create a __weighted and undirected__ graph object in networkx - `books_copurchase`\n",
    "- Check for number of nodes and edges in the graph . \n",
    "\n",
    "(Warning: Don't try to visualize/draw this graph as due to the size of data, it may freeze or crash your notebook)."
   ]
  },
  {
   "cell_type": "code",
   "execution_count": 3,
   "metadata": {},
   "outputs": [],
   "source": [
    "import networkx as nx"
   ]
  },
  {
   "cell_type": "code",
   "execution_count": 6,
   "metadata": {
    "scrolled": true
   },
   "outputs": [],
   "source": [
    "file = open('books_data.edgelist', 'rb')\n",
    "books_copurchase = nx.read_weighted_edgelist(file)\n",
    "file.close()"
   ]
  },
  {
   "cell_type": "code",
   "execution_count": 8,
   "metadata": {},
   "outputs": [
    {
     "name": "stdout",
     "output_type": "stream",
     "text": [
      "Name: \n",
      "Type: Graph\n",
      "Number of nodes: 270347\n",
      "Number of edges: 741124\n",
      "Average degree:   5.4828\n"
     ]
    }
   ],
   "source": [
    "print(nx.info(books_copurchase))"
   ]
  },
  {
   "cell_type": "markdown",
   "metadata": {},
   "source": [
    "So we see that there is a huge number of books and links between them. So, what good is networkx if we cant visualize big Graphs ? We will soon look into big data processing with Spark and see how such big datasets are parallelized and distributed over a clusters of many computers managed by Hadoop or Spark systems to allow visualization and processing of big graphs.  "
   ]
  },
  {
   "cell_type": "markdown",
   "metadata": {},
   "source": [
    "__Question : Why do we have a higher number of books in our new dictionary THAN those in the edgelist?__"
   ]
  },
  {
   "cell_type": "code",
   "execution_count": 4,
   "metadata": {},
   "outputs": [],
   "source": [
    "# Your answer here \n",
    "# Some books are not bought together with other books, so they have no edges"
   ]
  },
  {
   "cell_type": "markdown",
   "metadata": {},
   "source": [
    "## Task 3: Let's Make A Purchase\n",
    "\n",
    "Recommendation systems need initial set of data to make future recommendations around products, services or new edges (friends in a social network). For this, we need to select at least one book from the data and work of generating recommendations based on that purchase. \n",
    "\n",
    "You can refer to the `amazon-books.txt` and select a first purchase there. As we are using ASIN as a key to our books dictionary, we would need an ASIN to simulate a purchase.  \n",
    "\n",
    "For this experiment, lets purchase the popular sci. fiction \n",
    "> __\"Star Wars: Splinter of the Mind's Eye\",  `ASIN = 0345320239`.__ \n",
    "\n",
    "\n",
    "__Use this ASIN to print title, salesRank, total reviews, average ratings ,degree centrality and clustering coefficient for this book__"
   ]
  },
  {
   "cell_type": "code",
   "execution_count": 25,
   "metadata": {},
   "outputs": [
    {
     "name": "stdout",
     "output_type": "stream",
     "text": [
      "Your Purchased Book\n",
      "------------------\n",
      "Title = Star Wars: Splinter of the Mind's Eye\n",
      "ASIN = 0345320239\n",
      "SalesRank = 33004\n",
      "TotalReviews = 66\n",
      "AvgRating  = 3.5\n",
      "DegreeCentrality = 11\n",
      "ClusteringCoeff = 0.63\n",
      "\n"
     ]
    }
   ],
   "source": [
    "# Select an ASIN as first purchase - \n",
    "# You are welcome to use your own,  just make sure that asin is present in the books file and it has some neighbors\n",
    "asin = '0345320239'\n",
    "print(f\"\"\"Your Purchased Book\n",
    "------------------\n",
    "Title = {books_meta_dict[asin]['Title']}\n",
    "ASIN = {asin}\n",
    "SalesRank = {books_meta_dict[asin]['SalesRank']}\n",
    "TotalReviews = {books_meta_dict[asin]['TotalReviews']}\n",
    "AvgRating  = {books_meta_dict[asin]['AvgRating']}\n",
    "DegreeCentrality = {books_meta_dict[asin]['DegreeCentrality']}\n",
    "ClusteringCoeff = {books_meta_dict[asin]['ClusteringCoeff']}\n",
    "\"\"\")"
   ]
  },
  {
   "cell_type": "markdown",
   "metadata": {},
   "source": [
    "## Task 4: Create Ego Network For Selected Book\n",
    "\n",
    "Using the selected book (ASIN), we will now create an ego network based on co-purchases with other books. \n",
    "- Using given ASIN as the \"EGO\", create an ego graph from `books_copurchase` weighted graph , with radius = 1\n",
    "- Print the number of nodes and edges present in this ego graph\n",
    "- Draw the ego network for the book. "
   ]
  },
  {
   "cell_type": "code",
   "execution_count": 37,
   "metadata": {},
   "outputs": [
    {
     "name": "stdout",
     "output_type": "stream",
     "text": [
      "Ego network for Brown Bear, Brown Bear, What Do You See?\n",
      "Name: \n",
      "Type: Graph\n",
      "Number of nodes: 217\n",
      "Number of edges: 675\n",
      "Average degree:   6.2212\n"
     ]
    }
   ],
   "source": [
    "# Get ego network of given asin at depth 1 using networkx.ego_graph package + assign to variable ego_graph\n",
    "ego_graph = nx.ego_graph(books_copurchase, asin, radius=1)\n",
    "# print number of nodes and edges in ego_graph\n",
    "print(\"Ego network for\", books_meta_dict[asin]['Title'])\n",
    "print(nx.info(ego_graph))"
   ]
  },
  {
   "cell_type": "code",
   "execution_count": 35,
   "metadata": {
    "scrolled": true
   },
   "outputs": [
    {
     "name": "stderr",
     "output_type": "stream",
     "text": [
      "C:\\Users\\Laura\\Anaconda3\\envs\\learn-env\\lib\\site-packages\\networkx\\drawing\\nx_pylab.py:611: MatplotlibDeprecationWarning: isinstance(..., numbers.Number)\n",
      "  if cb.is_numlike(alpha):\n"
     ]
    },
    {
     "data": {
      "image/png": "[encoded data removed]",
      "text/plain": [
       "<Figure size 432x288 with 1 Axes>"
      ]
     },
     "metadata": {},
     "output_type": "display_data"
    }
   ],
   "source": [
    "nx.draw(ego_graph, with_labels=True)"
   ]
  },
  {
   "cell_type": "markdown",
   "metadata": {},
   "source": [
    "## Level up - Optional \n",
    "\n",
    "- Get the books titles from `books_meta_dict` dictionary re-draw the graph showing book titles instead of ASIN numbers. \n",
    "- Change the size and color of nodes to differentiate between ego and altar nodes\n",
    "- Set the edge thickness according to weight of an edge. "
   ]
  },
  {
   "cell_type": "markdown",
   "metadata": {},
   "source": [
    "We see that within a radius-1 ego network for above book, we have 12 nodes i.e. this book has been bought with 11 other books (altars), and number of edges is 33 - indicating that neighbors of this ego also have links among themselves. This is a good sign as it will give us meaningful recommendations. \n",
    "\n",
    "*Note: By increasing the radius of ego network, we can get more data from the edgelist , but the quality of recommendations may suffer.*  "
   ]
  },
  {
   "cell_type": "markdown",
   "metadata": {},
   "source": [
    "## Trim the Ego network\n",
    "\n",
    "We could potentially always take ALL books that were ever co-purchased with current book, and recommend all of them. We notice that above book has a Degree Centrality of 11 i.e. 11 other Books were co-purchased with this Book by customers. \n",
    "\n",
    "However, the Degree Centrality of Nodes in a product Co-Purchase Network can possibly be very large, specially for a popular books. e.g. let's see it with an example\n",
    "- Get the degree centrality of `ASIN=0805047905`.\n",
    "- Draw an Ego network for this ASIN. "
   ]
  },
  {
   "cell_type": "code",
   "execution_count": 41,
   "metadata": {},
   "outputs": [
    {
     "name": "stdout",
     "output_type": "stream",
     "text": [
      "Ego network for Brown Bear, Brown Bear, What Do You See?\n",
      "Degree centrality: 216\n"
     ]
    },
    {
     "name": "stderr",
     "output_type": "stream",
     "text": [
      "C:\\Users\\Laura\\Anaconda3\\envs\\learn-env\\lib\\site-packages\\networkx\\drawing\\nx_pylab.py:611: MatplotlibDeprecationWarning: isinstance(..., numbers.Number)\n",
      "  if cb.is_numlike(alpha):\n"
     ]
    },
    {
     "data": {
      "image/png": "[encoded data removed]",
      "text/plain": [
       "<Figure size 432x288 with 1 Axes>"
      ]
     },
     "metadata": {},
     "output_type": "display_data"
    }
   ],
   "source": [
    "asin = '0805047905'\n",
    "# Get ego network of given asin at depth 1 using networkx.ego_graph package + assign to variable ego_graph\n",
    "ego_graph2 = nx.ego_graph(books_copurchase, asin, radius=1)\n",
    "# print number of nodes and edges in ego_graph\n",
    "print(\"Ego network for\", books_meta_dict[asin]['Title'])\n",
    "print(\"Degree centrality:\", books_meta_dict[asin]['DegreeCentrality'])\n",
    "nx.draw(ego_graph2, alpha=0.3)"
   ]
  },
  {
   "cell_type": "markdown",
   "metadata": {},
   "source": [
    "Wow. For this popular children's book, the degree is very high and this will be the number of altars in the ego network. We can not possibly recommend ALL the co-purchased books, ALL the time.\n",
    "\n",
    "__So what do we do?__ We \"Trim\" the Ego Network.  \n",
    "\n",
    "We can select the altars from ego network that have a high edge weight between them and the ego. This will help us recommend books which share same categories and edge list is based on category similarity. \n",
    "\n",
    "> __Selecting certain nodes from an ego network , based on edge weight (or some other criterion) to reduce the size of ego network is called \"Trimming the Ego Network\", and the result graph structured is referred to as \"Trimmed Ego Network\"__ \n",
    "\n",
    "Perform following tasks:\n",
    "\n",
    "- Set a threshold level = 0.5 for trimming the nodes based normalized edge weight\n",
    "- Create empty graph instance `trimmed_ego` using the nx.Graph()\n",
    "- Iterate through the edges of ego network created above:\n",
    "    - If edge weight __is greater than__ or equal to defined threshold:\n",
    "        - add both nodes (node 1, node 2) and edge weight to the `trimmed_ego` created above. \n",
    "- Print edges and nodes of the trimmed_ego_net\n",
    "- Show the ASINs of the books in the trimmed network"
   ]
  },
  {
   "cell_type": "code",
   "execution_count": 34,
   "metadata": {
    "scrolled": true
   },
   "outputs": [
    {
     "name": "stdout",
     "output_type": "stream",
     "text": [
      "Trimmed Ego Network for: Star Wars: Splinter of the Mind's Eye \n",
      "____________________\n",
      " \n",
      "Threshold= 0.5 \n",
      "Nodes = 10 \n",
      "Edges = 22\n",
      "\n",
      "ASINs in the trimmed network: \n",
      " ['0553574159', '0553574132', '0345379802', '0345320239', '0345394429', '0345400771', '0553574167', '0553477463', '0553477455', '0553574175']\n"
     ]
    }
   ],
   "source": [
    "# Create empty graph instance `trimmed_ego_net` using the `nx.Graph()`to represent the trimmed network\n",
    "\n",
    "# Your Code here\n",
    "\n",
    "\n",
    "# Iterate through the network, comparing each weight with threshold\n",
    "\n",
    "# Your Code here\n",
    "\n",
    "\n",
    "        \n",
    "# Print the trimmed statistics        \n",
    "\n",
    "# Your Code here\n",
    "\n",
    "\n",
    "\n",
    "# Show the Altars available in the trimmed network\n",
    "\n",
    "# Your Code here\n"
   ]
  },
  {
   "cell_type": "markdown",
   "metadata": {},
   "source": [
    "So now we have 10 nodes and 22 edges. That means we are getting 10 recommendations for the given book. You can play a bit more with the threshold value above to include and drop books from this list. We shall take these ASINs and make recommendations based on these for now. "
   ]
  },
  {
   "cell_type": "markdown",
   "metadata": {},
   "source": [
    "## Task 5: Make Recommendations\n",
    "\n",
    "This last step is pretty straightforward. All we have to do now is using the ASINs (altars) in the trimmed ego network, we can extract book data from our `books_meta_dict` dictionary and present it to the user. \n",
    "\n",
    "- Create a list of ASINs present in the trimmed network\n",
    "- Extract Book Title, Average Rating and Number of reviews for each ASIN and present in a nice manner as recommendations. "
   ]
  },
  {
   "cell_type": "code",
   "execution_count": 37,
   "metadata": {},
   "outputs": [
    {
     "name": "stdout",
     "output_type": "stream",
     "text": [
      "Purchased Book\n",
      "--------------\n",
      "\n",
      "Title:  Star Wars: Splinter of the Mind's Eye\n",
      "\n",
      "Customers who bought this book, also bought\n",
      "-------------------------------------------\n",
      "\n",
      "Asin:  0345400771\n",
      "Book Title:  Star Wars, Episode IV - A New Hope\n",
      "Average Rating: 4.5\n",
      "Number of Reviews:  25\n",
      "\n",
      "Asin:  0553574167\n",
      "Book Title:  The Hutt Gambit (Star Wars: The Han Solo Trilogy, Vol. 2)\n",
      "Average Rating: 4.5\n",
      "Number of Reviews:  68\n",
      "\n",
      "Asin:  0553477463\n",
      "Book Title:  Star Wars: Rebel Dawn : Han Solo Trilogy (Star Wars (New York, N.Y.).)\n",
      "Average Rating: 4.5\n",
      "Number of Reviews:  97\n",
      "\n",
      "Asin:  0553574132\n",
      "Book Title:  Star Wars: Shadows of the Empire\n",
      "Average Rating: 4.5\n",
      "Number of Reviews:  325\n",
      "\n",
      "Asin:  0553477455\n",
      "Book Title:  The Hutt Gambit (Star Wars: The Han Solo Trilogy, Vol. 2)\n",
      "Average Rating: 4.5\n",
      "Number of Reviews:  68\n",
      "\n",
      "Asin:  0553574175\n",
      "Book Title:  Rebel Dawn : Star Wars : The Han Solo Trilogy - Volume Three (Star Wars: Han Solo Trilogy (Paperback))\n",
      "Average Rating: 4.5\n",
      "Number of Reviews:  98\n",
      "\n",
      "Asin:  0345394429\n",
      "Book Title:  Star Wars: The Han Solo Adventures (Classic Star Wars)\n",
      "Average Rating: 4.0\n",
      "Number of Reviews:  31\n",
      "\n",
      "Asin:  0345379802\n",
      "Book Title:  Star Wars: The Han Solo Adventures\n",
      "Average Rating: 4.0\n",
      "Number of Reviews:  31\n"
     ]
    }
   ],
   "source": [
    "\n",
    "# Your Code here\n",
    "\n"
   ]
  },
  {
   "cell_type": "markdown",
   "metadata": {},
   "source": [
    "Looking at these recommendations, we see that these are very meaningful results based on the original choice. We see recommendations for more star war books as these are very likely to be purchased together. This would surely help a customer make more informed and meaningful purchases. Thats adding value to user experience. "
   ]
  },
  {
   "cell_type": "markdown",
   "metadata": {},
   "source": [
    "<img src=\"rs.jpeg\" width=400>\n",
    "---\n",
    "So there we have it, our graph based recommendation system. Its not perfect but gives you a skeleton approach that you can modify, improve in many ways. "
   ]
  },
  {
   "cell_type": "markdown",
   "metadata": {},
   "source": [
    "## Level up - Optional \n",
    "\n",
    "- Package above code into a function to let you simple pass in a book ASIN and get recommendations. \n",
    "\n",
    "- We can see that in our recommendations, there are some duplicate books, which were published under multiple additions and although exactly the same, have different ASIN numbers.\n",
    "\n",
    "e.g. \"The Hutt Gambit (Star Wars: The Han Solo Trilogy, Vol. 2)\" is shown twice , so is the \"Hans Solo Adventures\". Clean the output further by simply comparing titles of the books, if two title match up (or one title is contained in a second title), include only one based on higher edge weight. \n",
    "\n",
    "- Have a look at the Movielens recommendation graph shown at the beginning of this lab. Display your final recommendations in a graph format. \n",
    "\n",
    "- Use movie lens database with this approach to recommend movies. ( You will have to create an edgelist from the given dataset at (https://movielens.org/).\n",
    "\n"
   ]
  },
  {
   "cell_type": "markdown",
   "metadata": {},
   "source": [
    "## Additional Resouces. \n",
    "\n",
    "This dataset used in this experiment was set up and introduced in the following paper focused at digital marketing. Although it is not mandatory, we would encourage you to read this paper to see how such products can become game changers for a number of data driven businesses.\n",
    "\n",
    "http://www.cs.cmu.edu/~jure/pubs/viral-tweb.pdf\n",
    "\n",
    "[An efficient recommender system based on graph database](https://www.kernix.com/blog/an-efficient-recommender-system-based-on-graph-database_p9)\n"
   ]
  },
  {
   "cell_type": "markdown",
   "metadata": {},
   "source": [
    "## Summary \n",
    "\n",
    "In this lab, we built a recommendation system using Graph analysis techniques that we covered in this section. This is a simple recommendation system and can be improved a lot by bringing in more data i.e. user reviews, categories of books and in some cases, some manual fine tuning to create custom edges promoting recommendations. We shall look at another technique called collaborative filtering later in the course where we shall try to expand upon this experiment. "
   ]
  }
 ],
 "metadata": {
  "kernelspec": {
   "display_name": "learn-env",
   "language": "python",
   "name": "learn-env"
  },
  "language_info": {
   "codemirror_mode": {
    "name": "ipython",
    "version": 3
   },
   "file_extension": ".py",
   "mimetype": "text/x-python",
   "name": "python",
   "nbconvert_exporter": "python",
   "pygments_lexer": "ipython3",
   "version": "3.6.6"
  }
 },
 "nbformat": 4,
 "nbformat_minor": 2
}
